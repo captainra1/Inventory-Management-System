{
 "cells": [
  {
   "cell_type": "code",
   "execution_count": 1,
   "metadata": {},
   "outputs": [
    {
     "data": {
      "text/plain": [
       "'\\npname: product name\\npcategory: product category\\nppq:price per quantity (in rs)\\nquantity: no. of products available\\npsize: size of the product i.e., in ml or grm\\nlabel:certification organization.(NA means no valid certification)\\n\\n'"
      ]
     },
     "execution_count": 1,
     "metadata": {},
     "output_type": "execute_result"
    }
   ],
   "source": [
    "\"\"\"\n",
    "pname: product name\n",
    "pcategory: product category\n",
    "ppq:price per quantity (in rs)\n",
    "quantity: no. of products available\n",
    "psize: size of the product i.e., in ml or grm\n",
    "label:certification organization.(NA means no valid certification)\n",
    "\n",
    "\"\"\""
   ]
  },
  {
   "cell_type": "code",
   "execution_count": 2,
   "metadata": {},
   "outputs": [],
   "source": [
    "records={ 10001:{\"pname\":'Detol handwash',\"pcategory\":\"human cleaner\",\"psize\":\"90ml\",\"label\":\"GMP\",\"quantity\":100,\"ppq\":60},\n",
    "         10002:{\"pname\":'BG handwash',\"pcategory\":\"human cleaner\",\"psize\":\"90ml\",\"label\":\"GMP\",\"quantity\":80,\"ppq\":40},\n",
    "         10003:{\"pname\":'mountain dew',\"pcategory\":\"soft drink\",\"psize\":\"250ml\",\"label\":\"fssai\",\"quantity\":50,\"ppq\":30},\n",
    "         10004:{\"pname\":'sprite',\"pcategory\":\"soft drink\",\"psize\":\"500ml\",\"label\":\"fssai\",\"quantity\":30,\"ppq\":45},\n",
    "         10005:{\"pname\":'pepsi',\"pcategory\":\"soft drink\",\"psize\":\"300ml\",\"label\":\"fssai\",\"quantity\":60,\"ppq\":30},\n",
    "         10006:{\"pname\":'kitkat',\"pcategory\":\"chocklate\",\"psize\":\"50gm\",\"label\":\"fssai\",\"quantity\":100,\"ppq\":20},\n",
    "         10007:{\"pname\":'Dairy milk',\"pcategory\":\"chocklate\",\"psize\":\"30gm\",\"label\":\"fssai\",\"quantity\":80,\"ppq\":15},\n",
    "         10008:{\"pname\":'5 star',\"pcategory\":\"chocklate\",\"psize\":\"30gm\",\"label\":\"fssai\",\"quantity\":100,\"ppq\":10},\n",
    "         10009:{\"pname\":'chokoflex',\"pcategory\":\"food substitute\",\"psize\":\"50gm\",\"label\":\"fssai\",\"quantity\":50,\"ppq\":50},\n",
    "         10010:{\"pname\":'20-20',\"pcategory\":\"biskit\",\"psize\":\"60gm\",\"label\":\"fssai\",\"quantity\":65,\"ppq\":5},\n",
    "         10011:{\"pname\":'digestive',\"pcategory\":\"flour biscuit\",\"psize\":\"100gm\",\"label\":\"fssai\",\"quantity\":300,\"ppq\":100},\n",
    "         10012:{\"pname\":'lighter',\"pcategory\":\"home appliance\",\"psize\":\"10ml gas\",\"label\":\"RTC\",\"quantity\":20,\"ppq\":60},\n",
    "         10013:{\"pname\":'dish',\"pcategory\":\"home appliance\",\"psize\":\"35 cm radius\",\"label\":\"GRK\",\"quantity\":100,\"ppq\":100},\n",
    "         10014:{\"pname\":'godrage no 1',\"pcategory\":\"human soap cleaner\",\"psize\":\"90gm\",\"label\":\"RCT\",\"quantity\":100,\"ppq\":15},\n",
    "         10015:{\"pname\":'Detol',\"pcategory\":\"human soap cleaner\",\"psize\":\"50gm\",\"label\":\"GMP\",\"quantity\":100,\"ppq\":30},\n",
    "         10016:{\"pname\":'colgate maxfresh',\"pcategory\":\"human tooth cleaner\",\"psize\":\"50gm\",\"label\":\"GMP\",\"quantity\":30,\"ppq\":45},\n",
    "         10017:{\"pname\":'close up',\"pcategory\":\"human tooth cleaner\",\"psize\":\"60gm\",\"label\":\"GMP\",\"quantity\":67,\"ppq\":45},\n",
    "         10018:{\"pname\":'Rin',\"pcategory\":\"ditergent cake\",\"psize\":\"40gm\",\"label\":\"RPK\",\"quantity\":56,\"ppq\":10},\n",
    "         10019:{\"pname\":'Bahamas',\"pcategory\":\"flip flops\",\"psize\":\"10\",\"label\":\"NA\",\"quantity\":100,\"ppq\":230},\n",
    "         10020:{\"pname\":'lancer',\"pcategory\":\"footwear\",\"psize\":\"9\",\"label\":\"NA\",\"quantity\":15,\"ppq\":645},\n",
    "         10021:{\"pname\":'jasmine',\"pcategory\":\"hair oil\",\"psize\":\"90ml\",\"label\":\"ISAH\",\"quantity\":115,\"ppq\":60},\n",
    "         10022:{\"pname\":'Dabar amla',\"pcategory\":\"hair oil\",\"psize\":\"80ml\",\"label\":\"ISAH\",\"quantity\":100,\"ppq\":40},\n",
    "         10023:{\"pname\":'goldie',\"pcategory\":\"sabji masala\",\"psize\":\"30gm\",\"label\":\"fssai\",\"quantity\":85,\"ppq\":15},\n",
    "         10024:{\"pname\":'tata salt',\"pcategory\":\"edible salt\",\"psize\":\"500gm\",\"label\":\"fssai\",\"quantity\":100,\"ppq\":25},\n",
    "         10025:{\"pname\":'Badshah',\"pcategory\":\"namkeen\",\"psize\":\"500gm\",\"label\":\"fssai\",\"quantity\":55,\"ppq\":100},\n",
    "         10026:{\"pname\":'ever-ready',\"pcategory\":\"battery cell\",\"psize\":\"50mah\",\"label\":\"PAI\",\"quantity\":150,\"ppq\":10},\n",
    "         10027:{\"pname\":'all-out',\"pcategory\":\"mosquito killer\",\"psize\":\"90ml\",\"label\":\"godrage\",\"quantity\":76,\"ppq\":80},\n",
    "         10028:{\"pname\":'tata-tea',\"pcategory\":\"tea leaves\",\"psize\":\"500gm\",\"label\":\"fssai\",\"quantity\":100,\"ppq\":150},\n",
    "         10029:{\"pname\":'Revital-H',\"pcategory\":\"energy tablets\",\"psize\":\"30 tablets\",\"label\":\"fssai\",\"quantity\":100,\"ppq\":450},\n",
    "         10030:{\"pname\":'glucon-D',\"pcategory\":\"refresher/energy p\",\"psize\":\"100gm\",\"label\":\"fssai\",\"quantity\":45,\"ppq\":80},\n",
    "         10031:{\"pname\":'Himalaya',\"pcategory\":\"fash wash\",\"psize\":\"100ml\",\"label\":\"BPAI\",\"quantity\":75,\"ppq\":60},\n",
    "         10032:{\"pname\":'Dove',\"pcategory\":\"shampoo\",\"psize\":\"90ml\",\"label\":\"ISAH\",\"quantity\":100,\"ppq\":60},\n",
    "         10033:{\"pname\":'fair & handsome',\"pcategory\":\"M face cream\",\"psize\":\"50gm\",\"label\":\"BPAI\",\"quantity\":250,\"ppq\":120},\n",
    "         10034:{\"pname\":'vasoline',\"pcategory\":\"body lotion\",\"psize\":\"90ml\",\"label\":\"BPAI\",\"quantity\":100,\"ppq\":150},\n",
    "         10035:{\"pname\":'almonds',\"pcategory\":\"dry fruits\",\"psize\":\"500gm\",\"label\":\"fssai\",\"quantity\":25,\"ppq\":600}\n",
    "}"
   ]
  },
  {
   "cell_type": "code",
   "execution_count": 3,
   "metadata": {},
   "outputs": [
    {
     "data": {
      "text/plain": [
       "dict_keys([10001, 10002, 10003, 10004, 10005, 10006, 10007, 10008, 10009, 10010, 10011, 10012, 10013, 10014, 10015, 10016, 10017, 10018, 10019, 10020, 10021, 10022, 10023, 10024, 10025, 10026, 10027, 10028, 10029, 10030, 10031, 10032, 10033, 10034, 10035])"
      ]
     },
     "execution_count": 3,
     "metadata": {},
     "output_type": "execute_result"
    }
   ],
   "source": [
    "records.keys()"
   ]
  },
  {
   "cell_type": "markdown",
   "metadata": {},
   "source": [
    "## creating json file."
   ]
  },
  {
   "cell_type": "code",
   "execution_count": 4,
   "metadata": {},
   "outputs": [],
   "source": [
    "import json\n",
    "fd=open('records.json',\"w\")\n",
    "txt=json.dumps(records)\n",
    "fd.write(txt)\n",
    "fd.close()"
   ]
  },
  {
   "cell_type": "code",
   "execution_count": 5,
   "metadata": {},
   "outputs": [],
   "source": [
    "fd=open('records.json',\"r\")\n",
    "txt1=fd.read()\n",
    "fd.close()"
   ]
  },
  {
   "cell_type": "code",
   "execution_count": 6,
   "metadata": {},
   "outputs": [
    {
     "data": {
      "text/plain": [
       "'{\"10001\": {\"pname\": \"Detol handwash\", \"pcategory\": \"human cleaner\", \"psize\": \"90ml\", \"label\": \"GMP\", \"quantity\": 100, \"ppq\": 60}, \"10002\": {\"pname\": \"BG handwash\", \"pcategory\": \"human cleaner\", \"psize\": \"90ml\", \"label\": \"GMP\", \"quantity\": 80, \"ppq\": 40}, \"10003\": {\"pname\": \"mountain dew\", \"pcategory\": \"soft drink\", \"psize\": \"250ml\", \"label\": \"fssai\", \"quantity\": 50, \"ppq\": 30}, \"10004\": {\"pname\": \"sprite\", \"pcategory\": \"soft drink\", \"psize\": \"500ml\", \"label\": \"fssai\", \"quantity\": 30, \"ppq\": 45}, \"10005\": {\"pname\": \"pepsi\", \"pcategory\": \"soft drink\", \"psize\": \"300ml\", \"label\": \"fssai\", \"quantity\": 60, \"ppq\": 30}, \"10006\": {\"pname\": \"kitkat\", \"pcategory\": \"chocklate\", \"psize\": \"50gm\", \"label\": \"fssai\", \"quantity\": 100, \"ppq\": 20}, \"10007\": {\"pname\": \"Dairy milk\", \"pcategory\": \"chocklate\", \"psize\": \"30gm\", \"label\": \"fssai\", \"quantity\": 80, \"ppq\": 15}, \"10008\": {\"pname\": \"5 star\", \"pcategory\": \"chocklate\", \"psize\": \"30gm\", \"label\": \"fssai\", \"quantity\": 100, \"ppq\": 10}, \"10009\": {\"pname\": \"chokoflex\", \"pcategory\": \"food substitute\", \"psize\": \"50gm\", \"label\": \"fssai\", \"quantity\": 50, \"ppq\": 50}, \"10010\": {\"pname\": \"20-20\", \"pcategory\": \"biskit\", \"psize\": \"60gm\", \"label\": \"fssai\", \"quantity\": 65, \"ppq\": 5}, \"10011\": {\"pname\": \"digestive\", \"pcategory\": \"flour biscuit\", \"psize\": \"100gm\", \"label\": \"fssai\", \"quantity\": 300, \"ppq\": 100}, \"10012\": {\"pname\": \"lighter\", \"pcategory\": \"home appliance\", \"psize\": \"10ml gas\", \"label\": \"RTC\", \"quantity\": 20, \"ppq\": 60}, \"10013\": {\"pname\": \"dish\", \"pcategory\": \"home appliance\", \"psize\": \"35 cm radius\", \"label\": \"GRK\", \"quantity\": 100, \"ppq\": 100}, \"10014\": {\"pname\": \"godrage no 1\", \"pcategory\": \"human soap cleaner\", \"psize\": \"90gm\", \"label\": \"RCT\", \"quantity\": 100, \"ppq\": 15}, \"10015\": {\"pname\": \"Detol\", \"pcategory\": \"human soap cleaner\", \"psize\": \"50gm\", \"label\": \"GMP\", \"quantity\": 100, \"ppq\": 30}, \"10016\": {\"pname\": \"colgate maxfresh\", \"pcategory\": \"human tooth cleaner\", \"psize\": \"50gm\", \"label\": \"GMP\", \"quantity\": 30, \"ppq\": 45}, \"10017\": {\"pname\": \"close up\", \"pcategory\": \"human tooth cleaner\", \"psize\": \"60gm\", \"label\": \"GMP\", \"quantity\": 67, \"ppq\": 45}, \"10018\": {\"pname\": \"Rin\", \"pcategory\": \"ditergent cake\", \"psize\": \"40gm\", \"label\": \"RPK\", \"quantity\": 56, \"ppq\": 10}, \"10019\": {\"pname\": \"Bahamas\", \"pcategory\": \"flip flops\", \"psize\": \"10\", \"label\": \"NA\", \"quantity\": 100, \"ppq\": 230}, \"10020\": {\"pname\": \"lancer\", \"pcategory\": \"footwear\", \"psize\": \"9\", \"label\": \"NA\", \"quantity\": 15, \"ppq\": 645}, \"10021\": {\"pname\": \"jasmine\", \"pcategory\": \"hair oil\", \"psize\": \"90ml\", \"label\": \"ISAH\", \"quantity\": 115, \"ppq\": 60}, \"10022\": {\"pname\": \"Dabar amla\", \"pcategory\": \"hair oil\", \"psize\": \"80ml\", \"label\": \"ISAH\", \"quantity\": 100, \"ppq\": 40}, \"10023\": {\"pname\": \"goldie\", \"pcategory\": \"sabji masala\", \"psize\": \"30gm\", \"label\": \"fssai\", \"quantity\": 85, \"ppq\": 15}, \"10024\": {\"pname\": \"tata salt\", \"pcategory\": \"edible salt\", \"psize\": \"500gm\", \"label\": \"fssai\", \"quantity\": 100, \"ppq\": 25}, \"10025\": {\"pname\": \"Badshah\", \"pcategory\": \"namkeen\", \"psize\": \"500gm\", \"label\": \"fssai\", \"quantity\": 55, \"ppq\": 100}, \"10026\": {\"pname\": \"ever-ready\", \"pcategory\": \"battery cell\", \"psize\": \"50mah\", \"label\": \"PAI\", \"quantity\": 150, \"ppq\": 10}, \"10027\": {\"pname\": \"all-out\", \"pcategory\": \"mosquito killer\", \"psize\": \"90ml\", \"label\": \"godrage\", \"quantity\": 76, \"ppq\": 80}, \"10028\": {\"pname\": \"tata-tea\", \"pcategory\": \"tea leaves\", \"psize\": \"500gm\", \"label\": \"fssai\", \"quantity\": 100, \"ppq\": 150}, \"10029\": {\"pname\": \"Revital-H\", \"pcategory\": \"energy tablets\", \"psize\": \"30 tablets\", \"label\": \"fssai\", \"quantity\": 100, \"ppq\": 450}, \"10030\": {\"pname\": \"glucon-D\", \"pcategory\": \"refresher/energy p\", \"psize\": \"100gm\", \"label\": \"fssai\", \"quantity\": 45, \"ppq\": 80}, \"10031\": {\"pname\": \"Himalaya\", \"pcategory\": \"fash wash\", \"psize\": \"100ml\", \"label\": \"BPAI\", \"quantity\": 75, \"ppq\": 60}, \"10032\": {\"pname\": \"Dove\", \"pcategory\": \"shampoo\", \"psize\": \"90ml\", \"label\": \"ISAH\", \"quantity\": 100, \"ppq\": 60}, \"10033\": {\"pname\": \"fair & handsome\", \"pcategory\": \"M face cream\", \"psize\": \"50gm\", \"label\": \"BPAI\", \"quantity\": 250, \"ppq\": 120}, \"10034\": {\"pname\": \"vasoline\", \"pcategory\": \"body lotion\", \"psize\": \"90ml\", \"label\": \"BPAI\", \"quantity\": 100, \"ppq\": 150}, \"10035\": {\"pname\": \"almonds\", \"pcategory\": \"dry fruits\", \"psize\": \"500gm\", \"label\": \"fssai\", \"quantity\": 25, \"ppq\": 600}}'"
      ]
     },
     "execution_count": 6,
     "metadata": {},
     "output_type": "execute_result"
    }
   ],
   "source": [
    "txt1"
   ]
  },
  {
   "cell_type": "code",
   "execution_count": 7,
   "metadata": {},
   "outputs": [],
   "source": [
    "rlk=json.loads(txt1)"
   ]
  },
  {
   "cell_type": "code",
   "execution_count": 8,
   "metadata": {},
   "outputs": [
    {
     "data": {
      "text/plain": [
       "{'10001': {'pname': 'Detol handwash',\n",
       "  'pcategory': 'human cleaner',\n",
       "  'psize': '90ml',\n",
       "  'label': 'GMP',\n",
       "  'quantity': 100,\n",
       "  'ppq': 60},\n",
       " '10002': {'pname': 'BG handwash',\n",
       "  'pcategory': 'human cleaner',\n",
       "  'psize': '90ml',\n",
       "  'label': 'GMP',\n",
       "  'quantity': 80,\n",
       "  'ppq': 40},\n",
       " '10003': {'pname': 'mountain dew',\n",
       "  'pcategory': 'soft drink',\n",
       "  'psize': '250ml',\n",
       "  'label': 'fssai',\n",
       "  'quantity': 50,\n",
       "  'ppq': 30},\n",
       " '10004': {'pname': 'sprite',\n",
       "  'pcategory': 'soft drink',\n",
       "  'psize': '500ml',\n",
       "  'label': 'fssai',\n",
       "  'quantity': 30,\n",
       "  'ppq': 45},\n",
       " '10005': {'pname': 'pepsi',\n",
       "  'pcategory': 'soft drink',\n",
       "  'psize': '300ml',\n",
       "  'label': 'fssai',\n",
       "  'quantity': 60,\n",
       "  'ppq': 30},\n",
       " '10006': {'pname': 'kitkat',\n",
       "  'pcategory': 'chocklate',\n",
       "  'psize': '50gm',\n",
       "  'label': 'fssai',\n",
       "  'quantity': 100,\n",
       "  'ppq': 20},\n",
       " '10007': {'pname': 'Dairy milk',\n",
       "  'pcategory': 'chocklate',\n",
       "  'psize': '30gm',\n",
       "  'label': 'fssai',\n",
       "  'quantity': 80,\n",
       "  'ppq': 15},\n",
       " '10008': {'pname': '5 star',\n",
       "  'pcategory': 'chocklate',\n",
       "  'psize': '30gm',\n",
       "  'label': 'fssai',\n",
       "  'quantity': 100,\n",
       "  'ppq': 10},\n",
       " '10009': {'pname': 'chokoflex',\n",
       "  'pcategory': 'food substitute',\n",
       "  'psize': '50gm',\n",
       "  'label': 'fssai',\n",
       "  'quantity': 50,\n",
       "  'ppq': 50},\n",
       " '10010': {'pname': '20-20',\n",
       "  'pcategory': 'biskit',\n",
       "  'psize': '60gm',\n",
       "  'label': 'fssai',\n",
       "  'quantity': 65,\n",
       "  'ppq': 5},\n",
       " '10011': {'pname': 'digestive',\n",
       "  'pcategory': 'flour biscuit',\n",
       "  'psize': '100gm',\n",
       "  'label': 'fssai',\n",
       "  'quantity': 300,\n",
       "  'ppq': 100},\n",
       " '10012': {'pname': 'lighter',\n",
       "  'pcategory': 'home appliance',\n",
       "  'psize': '10ml gas',\n",
       "  'label': 'RTC',\n",
       "  'quantity': 20,\n",
       "  'ppq': 60},\n",
       " '10013': {'pname': 'dish',\n",
       "  'pcategory': 'home appliance',\n",
       "  'psize': '35 cm radius',\n",
       "  'label': 'GRK',\n",
       "  'quantity': 100,\n",
       "  'ppq': 100},\n",
       " '10014': {'pname': 'godrage no 1',\n",
       "  'pcategory': 'human soap cleaner',\n",
       "  'psize': '90gm',\n",
       "  'label': 'RCT',\n",
       "  'quantity': 100,\n",
       "  'ppq': 15},\n",
       " '10015': {'pname': 'Detol',\n",
       "  'pcategory': 'human soap cleaner',\n",
       "  'psize': '50gm',\n",
       "  'label': 'GMP',\n",
       "  'quantity': 100,\n",
       "  'ppq': 30},\n",
       " '10016': {'pname': 'colgate maxfresh',\n",
       "  'pcategory': 'human tooth cleaner',\n",
       "  'psize': '50gm',\n",
       "  'label': 'GMP',\n",
       "  'quantity': 30,\n",
       "  'ppq': 45},\n",
       " '10017': {'pname': 'close up',\n",
       "  'pcategory': 'human tooth cleaner',\n",
       "  'psize': '60gm',\n",
       "  'label': 'GMP',\n",
       "  'quantity': 67,\n",
       "  'ppq': 45},\n",
       " '10018': {'pname': 'Rin',\n",
       "  'pcategory': 'ditergent cake',\n",
       "  'psize': '40gm',\n",
       "  'label': 'RPK',\n",
       "  'quantity': 56,\n",
       "  'ppq': 10},\n",
       " '10019': {'pname': 'Bahamas',\n",
       "  'pcategory': 'flip flops',\n",
       "  'psize': '10',\n",
       "  'label': 'NA',\n",
       "  'quantity': 100,\n",
       "  'ppq': 230},\n",
       " '10020': {'pname': 'lancer',\n",
       "  'pcategory': 'footwear',\n",
       "  'psize': '9',\n",
       "  'label': 'NA',\n",
       "  'quantity': 15,\n",
       "  'ppq': 645},\n",
       " '10021': {'pname': 'jasmine',\n",
       "  'pcategory': 'hair oil',\n",
       "  'psize': '90ml',\n",
       "  'label': 'ISAH',\n",
       "  'quantity': 115,\n",
       "  'ppq': 60},\n",
       " '10022': {'pname': 'Dabar amla',\n",
       "  'pcategory': 'hair oil',\n",
       "  'psize': '80ml',\n",
       "  'label': 'ISAH',\n",
       "  'quantity': 100,\n",
       "  'ppq': 40},\n",
       " '10023': {'pname': 'goldie',\n",
       "  'pcategory': 'sabji masala',\n",
       "  'psize': '30gm',\n",
       "  'label': 'fssai',\n",
       "  'quantity': 85,\n",
       "  'ppq': 15},\n",
       " '10024': {'pname': 'tata salt',\n",
       "  'pcategory': 'edible salt',\n",
       "  'psize': '500gm',\n",
       "  'label': 'fssai',\n",
       "  'quantity': 100,\n",
       "  'ppq': 25},\n",
       " '10025': {'pname': 'Badshah',\n",
       "  'pcategory': 'namkeen',\n",
       "  'psize': '500gm',\n",
       "  'label': 'fssai',\n",
       "  'quantity': 55,\n",
       "  'ppq': 100},\n",
       " '10026': {'pname': 'ever-ready',\n",
       "  'pcategory': 'battery cell',\n",
       "  'psize': '50mah',\n",
       "  'label': 'PAI',\n",
       "  'quantity': 150,\n",
       "  'ppq': 10},\n",
       " '10027': {'pname': 'all-out',\n",
       "  'pcategory': 'mosquito killer',\n",
       "  'psize': '90ml',\n",
       "  'label': 'godrage',\n",
       "  'quantity': 76,\n",
       "  'ppq': 80},\n",
       " '10028': {'pname': 'tata-tea',\n",
       "  'pcategory': 'tea leaves',\n",
       "  'psize': '500gm',\n",
       "  'label': 'fssai',\n",
       "  'quantity': 100,\n",
       "  'ppq': 150},\n",
       " '10029': {'pname': 'Revital-H',\n",
       "  'pcategory': 'energy tablets',\n",
       "  'psize': '30 tablets',\n",
       "  'label': 'fssai',\n",
       "  'quantity': 100,\n",
       "  'ppq': 450},\n",
       " '10030': {'pname': 'glucon-D',\n",
       "  'pcategory': 'refresher/energy p',\n",
       "  'psize': '100gm',\n",
       "  'label': 'fssai',\n",
       "  'quantity': 45,\n",
       "  'ppq': 80},\n",
       " '10031': {'pname': 'Himalaya',\n",
       "  'pcategory': 'fash wash',\n",
       "  'psize': '100ml',\n",
       "  'label': 'BPAI',\n",
       "  'quantity': 75,\n",
       "  'ppq': 60},\n",
       " '10032': {'pname': 'Dove',\n",
       "  'pcategory': 'shampoo',\n",
       "  'psize': '90ml',\n",
       "  'label': 'ISAH',\n",
       "  'quantity': 100,\n",
       "  'ppq': 60},\n",
       " '10033': {'pname': 'fair & handsome',\n",
       "  'pcategory': 'M face cream',\n",
       "  'psize': '50gm',\n",
       "  'label': 'BPAI',\n",
       "  'quantity': 250,\n",
       "  'ppq': 120},\n",
       " '10034': {'pname': 'vasoline',\n",
       "  'pcategory': 'body lotion',\n",
       "  'psize': '90ml',\n",
       "  'label': 'BPAI',\n",
       "  'quantity': 100,\n",
       "  'ppq': 150},\n",
       " '10035': {'pname': 'almonds',\n",
       "  'pcategory': 'dry fruits',\n",
       "  'psize': '500gm',\n",
       "  'label': 'fssai',\n",
       "  'quantity': 25,\n",
       "  'ppq': 600}}"
      ]
     },
     "execution_count": 8,
     "metadata": {},
     "output_type": "execute_result"
    }
   ],
   "source": [
    "rlk"
   ]
  },
  {
   "cell_type": "code",
   "execution_count": 9,
   "metadata": {},
   "outputs": [
    {
     "data": {
      "text/plain": [
       "'body lotion'"
      ]
     },
     "execution_count": 9,
     "metadata": {},
     "output_type": "execute_result"
    }
   ],
   "source": [
    "rlk['10034']['pcategory']"
   ]
  },
  {
   "cell_type": "code",
   "execution_count": 10,
   "metadata": {},
   "outputs": [],
   "source": [
    "employees={22345:\"suresh\",22350:\"deepti\",22355:\"rahul\"}\n",
    "fe=open('employee.json','w')\n",
    "rec=json.dumps(employees)\n",
    "fe.write(rec)\n",
    "fe.close()"
   ]
  },
  {
   "cell_type": "code",
   "execution_count": null,
   "metadata": {},
   "outputs": [],
   "source": []
  }
 ],
 "metadata": {
  "kernelspec": {
   "display_name": "Python 3",
   "language": "python",
   "name": "python3"
  },
  "language_info": {
   "codemirror_mode": {
    "name": "ipython",
    "version": 3
   },
   "file_extension": ".py",
   "mimetype": "text/x-python",
   "name": "python",
   "nbconvert_exporter": "python",
   "pygments_lexer": "ipython3",
   "version": "3.7.6"
  }
 },
 "nbformat": 4,
 "nbformat_minor": 4
}
